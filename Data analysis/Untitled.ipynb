{
 "cells": [
  {
   "cell_type": "code",
   "execution_count": 1,
   "metadata": {},
   "outputs": [],
   "source": [
    "import pandas as pd"
   ]
  },
  {
   "cell_type": "markdown",
   "metadata": {},
   "source": [
    "The read_excel method\n",
    "\n",
    "We'll begin with the read_excel method, that let us read Excel files into a DataFrame.\n",
    "\n",
    "This method supports both XLS and XLSX file extensions from a local filesystem or URL and has a broad set of parameters to configure how the data will be read and parsed. These parameters are very similar to the parameters we saw on previous lectures where we introduced the read_csv method. The most common parameters are as follows:\n",
    "\n",
    "    filepath: Path of the file to be read.\n",
    "    sheet_name: Strings are used for sheet names. Integers are used in zero-indexed sheet positions. Lists of strings/integers are used to request multiple sheets. Specify None to get all sheets.\n",
    "    header: Index of the row containing the names of the columns (None if none).\n",
    "    index_col: Index of the column or sequence of indexes that should be used as index of rows of the data.\n",
    "    names: Sequence containing the names of the columns (used together with header = None).\n",
    "    skiprows: Number of rows or sequence of row indexes to ignore in the load.\n",
    "    na_values: Sequence of values that, if found in the file, should be treated as NaN.\n",
    "    dtype: Dictionary in which the keys will be column names and the values will be types of NumPy to which their content must be converted.\n",
    "    parse_dates: Flag that indicates if Python should try to parse data with a format similar to dates as dates. You can enter a list of column names that must be joined for the parsing as a date.\n",
    "    date_parser: Function to use to try to parse dates.\n",
    "    nrows: Number of rows to read from the beginning of the file.\n",
    "    skip_footer: Number of rows to ignore at the end of the file.\n",
    "    squeeze: Flag that indicates that if the data read only contains one column the result is a Series instead of a DataFrame.\n",
    "    thousands: Character to use to detect the thousands separator.\n",
    "\n",
    "    Full read_excel documentation can be found here: https://pandas.pydata.org/pandas-docs/stable/reference/api/pandas.read_excel.html.\n",
    "\n",
    "In this case we'll try to read our products.xlsx Excel file.\n",
    "\n",
    "This file contains records of products with its price, brand, description and merchant information on different sheets.\n",
    "\n",
    "green-divider"
   ]
  },
  {
   "cell_type": "markdown",
   "metadata": {},
   "source": []
  }
 ],
 "metadata": {
  "kernelspec": {
   "display_name": "Python 3",
   "language": "python",
   "name": "python3"
  },
  "language_info": {
   "codemirror_mode": {
    "name": "ipython",
    "version": 3
   },
   "file_extension": ".py",
   "mimetype": "text/x-python",
   "name": "python",
   "nbconvert_exporter": "python",
   "pygments_lexer": "ipython3",
   "version": "3.7.6"
  }
 },
 "nbformat": 4,
 "nbformat_minor": 4
}
